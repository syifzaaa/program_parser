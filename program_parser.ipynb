{
  "nbformat": 4,
  "nbformat_minor": 0,
  "metadata": {
    "colab": {
      "name": "program parser",
      "provenance": [],
      "collapsed_sections": []
    },
    "kernelspec": {
      "name": "python3",
      "display_name": "Python 3"
    },
    "language_info": {
      "name": "python"
    }
  },
  "cells": [
    {
      "cell_type": "markdown",
      "metadata": {
        "id": "D197w6MPPlXK"
      },
      "source": [
        "Syifa Fauziah\t\t\t\t(1301194137)\n",
        "Anak Agung Istri Arinta M.\t(1301194194)\n",
        "Sabila Amanda Putri Riyadi \t(1301194106)\n",
        "IF-43-08"
      ]
    },
    {
      "cell_type": "code",
      "metadata": {
        "colab": {
          "base_uri": "https://localhost:8080/"
        },
        "id": "zG5gqL1Fnl4G",
        "outputId": "0522a662-6a1e-4c46-8ba3-700ca943c4cb"
      },
      "source": [
        "#program parser\n",
        "\n",
        "#input example\n",
        "sentence = 'eszik tofu'\n",
        "tokens = sentence.lower().split()\n",
        "tokens.append('EOS')\n",
        "\n",
        "#symbols definition\n",
        "non_terminals = ['S', 'NN', 'VB']\n",
        "terminals = ['apa', 'anya', 'tofu', 'tempeh', 'torta', 'eszik', 'viselet', 'olvas', 'papucs', 'asztal']\n",
        "\n",
        "#parse table definition\n",
        "parse_table = {}\n",
        "\n",
        "parse_table[('S', 'apa')] = ['NN', 'VB', 'NN']\n",
        "parse_table[('S', 'anya')] = ['NN', 'VB', 'NN']\n",
        "parse_table[('S', 'tofu')] = ['NN', 'VB', 'NN']\n",
        "parse_table[('S', 'tempeh')] = ['NN', 'VB', 'NN']\n",
        "parse_table[('S', 'eszik')] = ['error']\n",
        "parse_table[('S', 'viselet')] = ['error']\n",
        "parse_table[('S', 'olvas')] = ['error']\n",
        "parse_table[('S', 'papucs')] = ['NN', 'VB', 'NN']\n",
        "parse_table[('S', 'asztal')] = ['NN', 'VB', 'NN']\n",
        "parse_table[('S', 'EOS')] = ['error']\n",
        "\n",
        "parse_table[('NN', 'apa')] = ['apa']\n",
        "parse_table[('NN', 'anya')] = ['anya']\n",
        "parse_table[('NN', 'tofu')] = ['tofu']\n",
        "parse_table[('NN', 'tempeh')] = ['tempeh']\n",
        "parse_table[('NN', 'torta')] = ['torta']\n",
        "parse_table[('NN', 'eszik')] = ['error']\n",
        "parse_table[('NN', 'viselet')] = ['error']\n",
        "parse_table[('NN', 'olvas')] = ['error']\n",
        "parse_table[('NN', 'papucs')] = ['papucs']\n",
        "parse_table[('NN', 'asztal')] = ['asztal']\n",
        "parse_table[('NN', 'EOS')] = ['error']\n",
        "\n",
        "parse_table[('VB', 'apa')] = ['error']\n",
        "parse_table[('VB', 'anya')] = ['error']\n",
        "parse_table[('VB', 'tofu')] = ['error']\n",
        "parse_table[('VB', 'tempeh')] = ['error']\n",
        "parse_table[('VB', 'torta')] = ['error']\n",
        "parse_table[('VB', 'eszik')] = ['eszik']\n",
        "parse_table[('VB', 'viselet')] = ['viselet']\n",
        "parse_table[('VB', 'olvas')] = ['olvas']\n",
        "parse_table[('VB', 'papucs')] = ['error']\n",
        "parse_table[('VB', 'asztal')] = ['error']\n",
        "parse_table[('VB', 'EOS')] = ['error']\n",
        "\n",
        "#stack initialisation\n",
        "stack = []\n",
        "stack.append('#')\n",
        "stack.append('S')\n",
        "\n",
        "#input readling initialisation\n",
        "idx_token = 0\n",
        "symbol = tokens[idx_token]\n",
        "\n",
        "#parsing process\n",
        "while (len(stack) > 0):\n",
        "    top = stack[len(stack)-1]\n",
        "    print('top =', top)\n",
        "    print('symbol =', symbol)\n",
        "    if top in terminals:\n",
        "        print('top adalah simbol terminal')\n",
        "        if top==symbol:\n",
        "            stack.pop()\n",
        "            idx_token = idx_token + 1\n",
        "            symbol = tokens[idx_token]\n",
        "            if symbol == 'EOS':\n",
        "                print('isi stack:', stack)\n",
        "                stack.pop()\n",
        "\n",
        "        else:\n",
        "            print('error')\n",
        "            break;\n",
        "    elif top in non_terminals:\n",
        "        print(' top adalah simbol non-terminal')\n",
        "        if parse_table[(top, symbol)][0] != 'error':\n",
        "            stack.pop()\n",
        "            symbols_to_be_pushed = parse_table[(top, symbol)]\n",
        "            for i in range(len(symbols_to_be_pushed)-1,-1,-1):\n",
        "                stack.append(symbols_to_be_pushed[i])\n",
        "        else:\n",
        "            print('error')\n",
        "            break;\n",
        "    else:\n",
        "        print('isi stack', stack)\n",
        "        print()\n",
        "\n",
        "#conclusion\n",
        "print()\n",
        "if symbol == 'EOS' and len(stack)==0:\n",
        "    print('Input string', sentence, ' diterima, sesuai Grammar')\n",
        "else:\n",
        "    print('Error, input string:', sentence, 'tidak diterima, tidak sesuai grammar')"
      ],
      "execution_count": null,
      "outputs": [
        {
          "output_type": "stream",
          "text": [
            "top = S\n",
            "symbol = eszik\n",
            " top adalah simbol non-terminal\n",
            "error\n",
            "\n",
            "Error, input string: eszik tofu tidak diterima, tidak sesuai grammar\n"
          ],
          "name": "stdout"
        }
      ]
    }
  ]
}